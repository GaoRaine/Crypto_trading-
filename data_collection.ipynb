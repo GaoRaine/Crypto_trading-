{
 "cells": [
  {
   "cell_type": "code",
   "execution_count": 5,
   "metadata": {},
   "outputs": [],
   "source": [
    "import requests\n",
    "import pandas as pd\n",
    "from datetime import datetime, timedelta\n",
    "import time\n",
    "from tqdm import tqdm"
   ]
  },
  {
   "cell_type": "code",
   "execution_count": null,
   "metadata": {},
   "outputs": [
    {
     "name": "stderr",
     "output_type": "stream",
     "text": [
      "Fetching BTCUSD: 100%|██████████| 61/61 [02:17<00:00,  2.25s/chunk]\n",
      "Fetching ETHUSD: 100%|██████████| 61/61 [02:16<00:00,  2.24s/chunk]\n",
      "Fetching EURUSD: 100%|██████████| 61/61 [02:04<00:00,  2.04s/chunk]\n",
      "Fetching USDJPY:  64%|██████▍   | 39/61 [01:19<00:44,  2.03s/chunk]"
     ]
    },
    {
     "name": "stdout",
     "output_type": "stream",
     "text": [
      "Error fetching data for range 2024-12-13 to 2024-12-17: 429 Client Error: Too Many Requests for url: https://financialmodelingprep.com/api/v3/historical-chart/15min/USDJPY?from=2024-12-13&to=2024-12-17&apikey=liILs9gDs4Cx9tv4OFEv0cWnhDPBiQJq\n"
     ]
    },
    {
     "name": "stderr",
     "output_type": "stream",
     "text": [
      "Fetching USDJPY:  66%|██████▌   | 40/61 [01:21<00:42,  2.01s/chunk]"
     ]
    },
    {
     "name": "stdout",
     "output_type": "stream",
     "text": [
      "Error fetching data for range 2024-12-18 to 2024-12-22: 429 Client Error: Too Many Requests for url: https://financialmodelingprep.com/api/v3/historical-chart/15min/USDJPY?from=2024-12-18&to=2024-12-22&apikey=liILs9gDs4Cx9tv4OFEv0cWnhDPBiQJq\n"
     ]
    },
    {
     "name": "stderr",
     "output_type": "stream",
     "text": [
      "Fetching USDJPY:  67%|██████▋   | 41/61 [01:23<00:39,  2.00s/chunk]"
     ]
    },
    {
     "name": "stdout",
     "output_type": "stream",
     "text": [
      "Error fetching data for range 2024-12-23 to 2024-12-27: 429 Client Error: Too Many Requests for url: https://financialmodelingprep.com/api/v3/historical-chart/15min/USDJPY?from=2024-12-23&to=2024-12-27&apikey=liILs9gDs4Cx9tv4OFEv0cWnhDPBiQJq\n"
     ]
    },
    {
     "name": "stderr",
     "output_type": "stream",
     "text": [
      "Fetching USDJPY:  69%|██████▉   | 42/61 [01:25<00:37,  1.99s/chunk]"
     ]
    },
    {
     "name": "stdout",
     "output_type": "stream",
     "text": [
      "Error fetching data for range 2024-12-28 to 2025-01-01: 429 Client Error: Too Many Requests for url: https://financialmodelingprep.com/api/v3/historical-chart/15min/USDJPY?from=2024-12-28&to=2025-01-01&apikey=liILs9gDs4Cx9tv4OFEv0cWnhDPBiQJq\n"
     ]
    },
    {
     "name": "stderr",
     "output_type": "stream",
     "text": [
      "Fetching USDJPY:  70%|███████   | 43/61 [01:27<00:35,  1.98s/chunk]"
     ]
    },
    {
     "name": "stdout",
     "output_type": "stream",
     "text": [
      "Error fetching data for range 2025-01-02 to 2025-01-06: 429 Client Error: Too Many Requests for url: https://financialmodelingprep.com/api/v3/historical-chart/15min/USDJPY?from=2025-01-02&to=2025-01-06&apikey=liILs9gDs4Cx9tv4OFEv0cWnhDPBiQJq\n"
     ]
    },
    {
     "name": "stderr",
     "output_type": "stream",
     "text": [
      "Fetching USDJPY:  72%|███████▏  | 44/61 [01:29<00:33,  1.99s/chunk]"
     ]
    },
    {
     "name": "stdout",
     "output_type": "stream",
     "text": [
      "Error fetching data for range 2025-01-07 to 2025-01-11: 429 Client Error: Too Many Requests for url: https://financialmodelingprep.com/api/v3/historical-chart/15min/USDJPY?from=2025-01-07&to=2025-01-11&apikey=liILs9gDs4Cx9tv4OFEv0cWnhDPBiQJq\n"
     ]
    },
    {
     "name": "stderr",
     "output_type": "stream",
     "text": [
      "Fetching USDJPY:  74%|███████▍  | 45/61 [01:31<00:31,  2.00s/chunk]"
     ]
    },
    {
     "name": "stdout",
     "output_type": "stream",
     "text": [
      "Error fetching data for range 2025-01-12 to 2025-01-16: 429 Client Error: Too Many Requests for url: https://financialmodelingprep.com/api/v3/historical-chart/15min/USDJPY?from=2025-01-12&to=2025-01-16&apikey=liILs9gDs4Cx9tv4OFEv0cWnhDPBiQJq\n"
     ]
    },
    {
     "name": "stderr",
     "output_type": "stream",
     "text": [
      "Fetching USDJPY:  75%|███████▌  | 46/61 [01:33<00:29,  1.99s/chunk]"
     ]
    },
    {
     "name": "stdout",
     "output_type": "stream",
     "text": [
      "Error fetching data for range 2025-01-17 to 2025-01-21: 429 Client Error: Too Many Requests for url: https://financialmodelingprep.com/api/v3/historical-chart/15min/USDJPY?from=2025-01-17&to=2025-01-21&apikey=liILs9gDs4Cx9tv4OFEv0cWnhDPBiQJq\n"
     ]
    },
    {
     "name": "stderr",
     "output_type": "stream",
     "text": [
      "Fetching USDJPY:  77%|███████▋  | 47/61 [01:35<00:27,  1.99s/chunk]"
     ]
    },
    {
     "name": "stdout",
     "output_type": "stream",
     "text": [
      "Error fetching data for range 2025-01-22 to 2025-01-26: 429 Client Error: Too Many Requests for url: https://financialmodelingprep.com/api/v3/historical-chart/15min/USDJPY?from=2025-01-22&to=2025-01-26&apikey=liILs9gDs4Cx9tv4OFEv0cWnhDPBiQJq\n"
     ]
    },
    {
     "name": "stderr",
     "output_type": "stream",
     "text": [
      "Fetching USDJPY:  79%|███████▊  | 48/61 [01:36<00:25,  1.98s/chunk]"
     ]
    },
    {
     "name": "stdout",
     "output_type": "stream",
     "text": [
      "Error fetching data for range 2025-01-27 to 2025-01-31: 429 Client Error: Too Many Requests for url: https://financialmodelingprep.com/api/v3/historical-chart/15min/USDJPY?from=2025-01-27&to=2025-01-31&apikey=liILs9gDs4Cx9tv4OFEv0cWnhDPBiQJq\n"
     ]
    },
    {
     "name": "stderr",
     "output_type": "stream",
     "text": [
      "Fetching USDJPY:  80%|████████  | 49/61 [01:38<00:23,  1.98s/chunk]"
     ]
    },
    {
     "name": "stdout",
     "output_type": "stream",
     "text": [
      "Error fetching data for range 2025-02-01 to 2025-02-05: 429 Client Error: Too Many Requests for url: https://financialmodelingprep.com/api/v3/historical-chart/15min/USDJPY?from=2025-02-01&to=2025-02-05&apikey=liILs9gDs4Cx9tv4OFEv0cWnhDPBiQJq\n"
     ]
    },
    {
     "name": "stderr",
     "output_type": "stream",
     "text": [
      "Fetching USDJPY:  82%|████████▏ | 50/61 [01:40<00:21,  1.98s/chunk]"
     ]
    },
    {
     "name": "stdout",
     "output_type": "stream",
     "text": [
      "Error fetching data for range 2025-02-06 to 2025-02-10: 429 Client Error: Too Many Requests for url: https://financialmodelingprep.com/api/v3/historical-chart/15min/USDJPY?from=2025-02-06&to=2025-02-10&apikey=liILs9gDs4Cx9tv4OFEv0cWnhDPBiQJq\n"
     ]
    },
    {
     "name": "stderr",
     "output_type": "stream",
     "text": [
      "Fetching USDJPY:  84%|████████▎ | 51/61 [01:42<00:19,  1.98s/chunk]"
     ]
    },
    {
     "name": "stdout",
     "output_type": "stream",
     "text": [
      "Error fetching data for range 2025-02-11 to 2025-02-15: 429 Client Error: Too Many Requests for url: https://financialmodelingprep.com/api/v3/historical-chart/15min/USDJPY?from=2025-02-11&to=2025-02-15&apikey=liILs9gDs4Cx9tv4OFEv0cWnhDPBiQJq\n"
     ]
    },
    {
     "name": "stderr",
     "output_type": "stream",
     "text": [
      "Fetching USDJPY:  85%|████████▌ | 52/61 [01:44<00:17,  1.97s/chunk]"
     ]
    },
    {
     "name": "stdout",
     "output_type": "stream",
     "text": [
      "Error fetching data for range 2025-02-16 to 2025-02-20: 429 Client Error: Too Many Requests for url: https://financialmodelingprep.com/api/v3/historical-chart/15min/USDJPY?from=2025-02-16&to=2025-02-20&apikey=liILs9gDs4Cx9tv4OFEv0cWnhDPBiQJq\n"
     ]
    },
    {
     "name": "stderr",
     "output_type": "stream",
     "text": [
      "Fetching USDJPY:  87%|████████▋ | 53/61 [01:46<00:15,  1.97s/chunk]"
     ]
    },
    {
     "name": "stdout",
     "output_type": "stream",
     "text": [
      "Error fetching data for range 2025-02-21 to 2025-02-25: 429 Client Error: Too Many Requests for url: https://financialmodelingprep.com/api/v3/historical-chart/15min/USDJPY?from=2025-02-21&to=2025-02-25&apikey=liILs9gDs4Cx9tv4OFEv0cWnhDPBiQJq\n"
     ]
    },
    {
     "name": "stderr",
     "output_type": "stream",
     "text": [
      "Fetching USDJPY:  89%|████████▊ | 54/61 [01:48<00:13,  1.96s/chunk]"
     ]
    },
    {
     "name": "stdout",
     "output_type": "stream",
     "text": [
      "Error fetching data for range 2025-02-26 to 2025-03-02: 429 Client Error: Too Many Requests for url: https://financialmodelingprep.com/api/v3/historical-chart/15min/USDJPY?from=2025-02-26&to=2025-03-02&apikey=liILs9gDs4Cx9tv4OFEv0cWnhDPBiQJq\n"
     ]
    },
    {
     "name": "stderr",
     "output_type": "stream",
     "text": [
      "Fetching USDJPY:  90%|█████████ | 55/61 [01:50<00:11,  1.96s/chunk]"
     ]
    },
    {
     "name": "stdout",
     "output_type": "stream",
     "text": [
      "Error fetching data for range 2025-03-03 to 2025-03-07: 429 Client Error: Too Many Requests for url: https://financialmodelingprep.com/api/v3/historical-chart/15min/USDJPY?from=2025-03-03&to=2025-03-07&apikey=liILs9gDs4Cx9tv4OFEv0cWnhDPBiQJq\n"
     ]
    },
    {
     "name": "stderr",
     "output_type": "stream",
     "text": [
      "Fetching USDJPY:  92%|█████████▏| 56/61 [01:52<00:09,  1.98s/chunk]"
     ]
    },
    {
     "name": "stdout",
     "output_type": "stream",
     "text": [
      "Error fetching data for range 2025-03-08 to 2025-03-12: 429 Client Error: Too Many Requests for url: https://financialmodelingprep.com/api/v3/historical-chart/15min/USDJPY?from=2025-03-08&to=2025-03-12&apikey=liILs9gDs4Cx9tv4OFEv0cWnhDPBiQJq\n"
     ]
    },
    {
     "name": "stderr",
     "output_type": "stream",
     "text": [
      "Fetching USDJPY:  93%|█████████▎| 57/61 [01:54<00:07,  1.97s/chunk]"
     ]
    },
    {
     "name": "stdout",
     "output_type": "stream",
     "text": [
      "Error fetching data for range 2025-03-13 to 2025-03-17: 429 Client Error: Too Many Requests for url: https://financialmodelingprep.com/api/v3/historical-chart/15min/USDJPY?from=2025-03-13&to=2025-03-17&apikey=liILs9gDs4Cx9tv4OFEv0cWnhDPBiQJq\n"
     ]
    },
    {
     "name": "stderr",
     "output_type": "stream",
     "text": [
      "Fetching USDJPY:  95%|█████████▌| 58/61 [01:56<00:05,  1.98s/chunk]"
     ]
    },
    {
     "name": "stdout",
     "output_type": "stream",
     "text": [
      "Error fetching data for range 2025-03-18 to 2025-03-22: 429 Client Error: Too Many Requests for url: https://financialmodelingprep.com/api/v3/historical-chart/15min/USDJPY?from=2025-03-18&to=2025-03-22&apikey=liILs9gDs4Cx9tv4OFEv0cWnhDPBiQJq\n"
     ]
    },
    {
     "name": "stderr",
     "output_type": "stream",
     "text": [
      "Fetching USDJPY:  97%|█████████▋| 59/61 [01:58<00:03,  1.98s/chunk]"
     ]
    },
    {
     "name": "stdout",
     "output_type": "stream",
     "text": [
      "Error fetching data for range 2025-03-23 to 2025-03-27: 429 Client Error: Too Many Requests for url: https://financialmodelingprep.com/api/v3/historical-chart/15min/USDJPY?from=2025-03-23&to=2025-03-27&apikey=liILs9gDs4Cx9tv4OFEv0cWnhDPBiQJq\n"
     ]
    },
    {
     "name": "stderr",
     "output_type": "stream",
     "text": [
      "Fetching USDJPY:  98%|█████████▊| 60/61 [02:00<00:01,  1.97s/chunk]"
     ]
    },
    {
     "name": "stdout",
     "output_type": "stream",
     "text": [
      "Error fetching data for range 2025-03-28 to 2025-03-31: 429 Client Error: Too Many Requests for url: https://financialmodelingprep.com/api/v3/historical-chart/15min/USDJPY?from=2025-03-28&to=2025-03-31&apikey=liILs9gDs4Cx9tv4OFEv0cWnhDPBiQJq\n"
     ]
    },
    {
     "name": "stderr",
     "output_type": "stream",
     "text": [
      "Fetching USDJPY: 100%|██████████| 61/61 [02:02<00:00,  2.01s/chunk]\n"
     ]
    }
   ],
   "source": [
    "# Config\n",
    "api_key = 'fGS4bqJzYvYGUO3VlLEdVOVnThL82DXt'\n",
    "timeframe = '15min'  # or '1min', '15min', etc.\n",
    "start_date = datetime(2024, 6, 1)\n",
    "end_date = datetime.now()\n",
    "chunk_size_days = 5\n",
    "delay = 1  # seconds between requests\n",
    "symbols = ['BTCUSD', 'ETHUSD', 'EURUSD', 'USDJPY']\n",
    "\n",
    "def fetch_data(symbol, start_date, end_date, chunk_size_days, timeframe, api_key, delay=1):\n",
    "    current_start = start_date\n",
    "    total_chunks = ((end_date - start_date).days // chunk_size_days) + 1\n",
    "    all_data = []\n",
    "\n",
    "    with tqdm(total=total_chunks, desc=f\"Fetching {symbol}\", unit=\"chunk\") as pbar:\n",
    "        while current_start <= end_date:\n",
    "            current_end = min(current_start + timedelta(days=chunk_size_days - 1), end_date)\n",
    "            url = (f'https://financialmodelingprep.com/api/v3/historical-chart/{timeframe}/{symbol}'\n",
    "                   f'?from={current_start.strftime(\"%Y-%m-%d\")}&to={current_end.strftime(\"%Y-%m-%d\")}&apikey={api_key}')\n",
    "            \n",
    "            try:\n",
    "                response = requests.get(url)\n",
    "                response.raise_for_status()\n",
    "                data = response.json()\n",
    "                if data:\n",
    "                    chunk_df = pd.DataFrame(data)\n",
    "                    chunk_df = chunk_df.set_index('date')\n",
    "                    chunk_df.index = pd.to_datetime(chunk_df.index)\n",
    "                    all_data.append(chunk_df)\n",
    "                else:\n",
    "                    print(f\"No data for range {current_start.date()} to {current_end.date()}.\")\n",
    "            except requests.exceptions.RequestException as e:\n",
    "                print(f\"Error fetching data for range {current_start.date()} to {current_end.date()}: {e}\")\n",
    "            \n",
    "            current_start = current_end + timedelta(days=1)\n",
    "            time.sleep(delay)\n",
    "            pbar.update(1)\n",
    "\n",
    "    if all_data:\n",
    "        final_df = pd.concat(all_data).iloc[::-1]\n",
    "        return final_df\n",
    "    else:\n",
    "        print(f\"No data retrieved for {symbol}.\")\n",
    "        return pd.DataFrame()\n",
    "\n",
    "# Fetch data for each symbol\n",
    "symbol_data = {}\n",
    "for sym in symbols:\n",
    "    df = fetch_data(sym, start_date, end_date, chunk_size_days, timeframe, api_key, delay)\n",
    "    symbol_data[sym] = df"
   ]
  },
  {
   "cell_type": "code",
   "execution_count": 10,
   "metadata": {},
   "outputs": [
    {
     "data": {
      "text/html": [
       "<div>\n",
       "<style scoped>\n",
       "    .dataframe tbody tr th:only-of-type {\n",
       "        vertical-align: middle;\n",
       "    }\n",
       "\n",
       "    .dataframe tbody tr th {\n",
       "        vertical-align: top;\n",
       "    }\n",
       "\n",
       "    .dataframe thead th {\n",
       "        text-align: right;\n",
       "    }\n",
       "</style>\n",
       "<table border=\"1\" class=\"dataframe\">\n",
       "  <thead>\n",
       "    <tr style=\"text-align: right;\">\n",
       "      <th></th>\n",
       "      <th>open</th>\n",
       "      <th>low</th>\n",
       "      <th>high</th>\n",
       "      <th>close</th>\n",
       "      <th>volume</th>\n",
       "    </tr>\n",
       "    <tr>\n",
       "      <th>date</th>\n",
       "      <th></th>\n",
       "      <th></th>\n",
       "      <th></th>\n",
       "      <th></th>\n",
       "      <th></th>\n",
       "    </tr>\n",
       "  </thead>\n",
       "  <tbody>\n",
       "    <tr>\n",
       "      <th>2025-03-28 00:00:00</th>\n",
       "      <td>86779.11000</td>\n",
       "      <td>86755.92188</td>\n",
       "      <td>86825.43000</td>\n",
       "      <td>86757.50781</td>\n",
       "      <td>2.261936e+06</td>\n",
       "    </tr>\n",
       "    <tr>\n",
       "      <th>2025-03-28 00:15:00</th>\n",
       "      <td>86753.21875</td>\n",
       "      <td>86654.51000</td>\n",
       "      <td>86753.21875</td>\n",
       "      <td>86747.01563</td>\n",
       "      <td>2.432504e+08</td>\n",
       "    </tr>\n",
       "    <tr>\n",
       "      <th>2025-03-28 00:30:00</th>\n",
       "      <td>86679.61000</td>\n",
       "      <td>86085.00000</td>\n",
       "      <td>86679.61000</td>\n",
       "      <td>86237.21000</td>\n",
       "      <td>5.162528e+08</td>\n",
       "    </tr>\n",
       "    <tr>\n",
       "      <th>2025-03-28 00:45:00</th>\n",
       "      <td>86264.03906</td>\n",
       "      <td>85935.39000</td>\n",
       "      <td>86341.74000</td>\n",
       "      <td>86277.09000</td>\n",
       "      <td>4.546615e+08</td>\n",
       "    </tr>\n",
       "    <tr>\n",
       "      <th>2025-03-28 01:00:00</th>\n",
       "      <td>86183.07031</td>\n",
       "      <td>86086.60938</td>\n",
       "      <td>86194.85156</td>\n",
       "      <td>86086.60938</td>\n",
       "      <td>6.767944e+08</td>\n",
       "    </tr>\n",
       "    <tr>\n",
       "      <th>...</th>\n",
       "      <td>...</td>\n",
       "      <td>...</td>\n",
       "      <td>...</td>\n",
       "      <td>...</td>\n",
       "      <td>...</td>\n",
       "    </tr>\n",
       "    <tr>\n",
       "      <th>2024-06-05 22:45:00</th>\n",
       "      <td>71168.28000</td>\n",
       "      <td>71126.45000</td>\n",
       "      <td>71219.00000</td>\n",
       "      <td>71192.80000</td>\n",
       "      <td>3.082178e+06</td>\n",
       "    </tr>\n",
       "    <tr>\n",
       "      <th>2024-06-05 23:00:00</th>\n",
       "      <td>71168.00000</td>\n",
       "      <td>71137.58000</td>\n",
       "      <td>71212.11000</td>\n",
       "      <td>71190.00000</td>\n",
       "      <td>2.386890e+06</td>\n",
       "    </tr>\n",
       "    <tr>\n",
       "      <th>2024-06-05 23:15:00</th>\n",
       "      <td>71160.93000</td>\n",
       "      <td>71154.00000</td>\n",
       "      <td>71211.00000</td>\n",
       "      <td>71166.72000</td>\n",
       "      <td>2.646562e+06</td>\n",
       "    </tr>\n",
       "    <tr>\n",
       "      <th>2024-06-05 23:30:00</th>\n",
       "      <td>71195.00000</td>\n",
       "      <td>71050.83000</td>\n",
       "      <td>71211.00000</td>\n",
       "      <td>71122.62000</td>\n",
       "      <td>2.936548e+06</td>\n",
       "    </tr>\n",
       "    <tr>\n",
       "      <th>2024-06-05 23:45:00</th>\n",
       "      <td>71123.28000</td>\n",
       "      <td>71019.07000</td>\n",
       "      <td>71145.00000</td>\n",
       "      <td>71059.46000</td>\n",
       "      <td>3.419821e+06</td>\n",
       "    </tr>\n",
       "  </tbody>\n",
       "</table>\n",
       "<p>28315 rows × 5 columns</p>\n",
       "</div>"
      ],
      "text/plain": [
       "                            open          low         high        close  \\\n",
       "date                                                                      \n",
       "2025-03-28 00:00:00  86779.11000  86755.92188  86825.43000  86757.50781   \n",
       "2025-03-28 00:15:00  86753.21875  86654.51000  86753.21875  86747.01563   \n",
       "2025-03-28 00:30:00  86679.61000  86085.00000  86679.61000  86237.21000   \n",
       "2025-03-28 00:45:00  86264.03906  85935.39000  86341.74000  86277.09000   \n",
       "2025-03-28 01:00:00  86183.07031  86086.60938  86194.85156  86086.60938   \n",
       "...                          ...          ...          ...          ...   \n",
       "2024-06-05 22:45:00  71168.28000  71126.45000  71219.00000  71192.80000   \n",
       "2024-06-05 23:00:00  71168.00000  71137.58000  71212.11000  71190.00000   \n",
       "2024-06-05 23:15:00  71160.93000  71154.00000  71211.00000  71166.72000   \n",
       "2024-06-05 23:30:00  71195.00000  71050.83000  71211.00000  71122.62000   \n",
       "2024-06-05 23:45:00  71123.28000  71019.07000  71145.00000  71059.46000   \n",
       "\n",
       "                           volume  \n",
       "date                               \n",
       "2025-03-28 00:00:00  2.261936e+06  \n",
       "2025-03-28 00:15:00  2.432504e+08  \n",
       "2025-03-28 00:30:00  5.162528e+08  \n",
       "2025-03-28 00:45:00  4.546615e+08  \n",
       "2025-03-28 01:00:00  6.767944e+08  \n",
       "...                           ...  \n",
       "2024-06-05 22:45:00  3.082178e+06  \n",
       "2024-06-05 23:00:00  2.386890e+06  \n",
       "2024-06-05 23:15:00  2.646562e+06  \n",
       "2024-06-05 23:30:00  2.936548e+06  \n",
       "2024-06-05 23:45:00  3.419821e+06  \n",
       "\n",
       "[28315 rows x 5 columns]"
      ]
     },
     "execution_count": 10,
     "metadata": {},
     "output_type": "execute_result"
    }
   ],
   "source": [
    "symbol_data['BTCUSD']"
   ]
  },
  {
   "cell_type": "code",
   "execution_count": 11,
   "metadata": {},
   "outputs": [
    {
     "data": {
      "text/html": [
       "<div>\n",
       "<style scoped>\n",
       "    .dataframe tbody tr th:only-of-type {\n",
       "        vertical-align: middle;\n",
       "    }\n",
       "\n",
       "    .dataframe tbody tr th {\n",
       "        vertical-align: top;\n",
       "    }\n",
       "\n",
       "    .dataframe thead th {\n",
       "        text-align: right;\n",
       "    }\n",
       "</style>\n",
       "<table border=\"1\" class=\"dataframe\">\n",
       "  <thead>\n",
       "    <tr style=\"text-align: right;\">\n",
       "      <th></th>\n",
       "      <th>open</th>\n",
       "      <th>low</th>\n",
       "      <th>high</th>\n",
       "      <th>close</th>\n",
       "      <th>volume</th>\n",
       "    </tr>\n",
       "    <tr>\n",
       "      <th>date</th>\n",
       "      <th></th>\n",
       "      <th></th>\n",
       "      <th></th>\n",
       "      <th></th>\n",
       "      <th></th>\n",
       "    </tr>\n",
       "  </thead>\n",
       "  <tbody>\n",
       "    <tr>\n",
       "      <th>2025-03-28 00:00:00</th>\n",
       "      <td>1999.94275</td>\n",
       "      <td>1999.81763</td>\n",
       "      <td>2003.65649</td>\n",
       "      <td>2003.65649</td>\n",
       "      <td>8.032256e+06</td>\n",
       "    </tr>\n",
       "    <tr>\n",
       "      <th>2025-03-28 00:15:00</th>\n",
       "      <td>2003.70715</td>\n",
       "      <td>1998.59485</td>\n",
       "      <td>2003.70715</td>\n",
       "      <td>2000.61841</td>\n",
       "      <td>1.843241e+08</td>\n",
       "    </tr>\n",
       "    <tr>\n",
       "      <th>2025-03-28 00:30:00</th>\n",
       "      <td>1997.92000</td>\n",
       "      <td>1982.26000</td>\n",
       "      <td>1997.92000</td>\n",
       "      <td>1985.00342</td>\n",
       "      <td>5.379967e+06</td>\n",
       "    </tr>\n",
       "    <tr>\n",
       "      <th>2025-03-28 00:45:00</th>\n",
       "      <td>1940.05969</td>\n",
       "      <td>1929.05286</td>\n",
       "      <td>1940.05969</td>\n",
       "      <td>1935.98987</td>\n",
       "      <td>6.306079e+08</td>\n",
       "    </tr>\n",
       "    <tr>\n",
       "      <th>2025-03-28 01:00:00</th>\n",
       "      <td>1937.26685</td>\n",
       "      <td>1925.21033</td>\n",
       "      <td>1937.26685</td>\n",
       "      <td>1925.53320</td>\n",
       "      <td>5.143552e+08</td>\n",
       "    </tr>\n",
       "    <tr>\n",
       "      <th>...</th>\n",
       "      <td>...</td>\n",
       "      <td>...</td>\n",
       "      <td>...</td>\n",
       "      <td>...</td>\n",
       "      <td>...</td>\n",
       "    </tr>\n",
       "    <tr>\n",
       "      <th>2024-06-05 22:45:00</th>\n",
       "      <td>3869.83000</td>\n",
       "      <td>3868.38000</td>\n",
       "      <td>3873.69000</td>\n",
       "      <td>3869.08000</td>\n",
       "      <td>1.481128e+06</td>\n",
       "    </tr>\n",
       "    <tr>\n",
       "      <th>2024-06-05 23:00:00</th>\n",
       "      <td>3869.07000</td>\n",
       "      <td>3867.85000</td>\n",
       "      <td>3871.73000</td>\n",
       "      <td>3870.36000</td>\n",
       "      <td>1.907044e+06</td>\n",
       "    </tr>\n",
       "    <tr>\n",
       "      <th>2024-06-05 23:15:00</th>\n",
       "      <td>3870.34000</td>\n",
       "      <td>3868.91000</td>\n",
       "      <td>3874.90000</td>\n",
       "      <td>3869.14000</td>\n",
       "      <td>2.136276e+06</td>\n",
       "    </tr>\n",
       "    <tr>\n",
       "      <th>2024-06-05 23:30:00</th>\n",
       "      <td>3869.14000</td>\n",
       "      <td>3864.11000</td>\n",
       "      <td>3871.26000</td>\n",
       "      <td>3868.51000</td>\n",
       "      <td>1.406864e+06</td>\n",
       "    </tr>\n",
       "    <tr>\n",
       "      <th>2024-06-05 23:45:00</th>\n",
       "      <td>3868.50000</td>\n",
       "      <td>3861.05000</td>\n",
       "      <td>3868.70000</td>\n",
       "      <td>3862.19000</td>\n",
       "      <td>1.456791e+06</td>\n",
       "    </tr>\n",
       "  </tbody>\n",
       "</table>\n",
       "<p>28406 rows × 5 columns</p>\n",
       "</div>"
      ],
      "text/plain": [
       "                           open         low        high       close  \\\n",
       "date                                                                  \n",
       "2025-03-28 00:00:00  1999.94275  1999.81763  2003.65649  2003.65649   \n",
       "2025-03-28 00:15:00  2003.70715  1998.59485  2003.70715  2000.61841   \n",
       "2025-03-28 00:30:00  1997.92000  1982.26000  1997.92000  1985.00342   \n",
       "2025-03-28 00:45:00  1940.05969  1929.05286  1940.05969  1935.98987   \n",
       "2025-03-28 01:00:00  1937.26685  1925.21033  1937.26685  1925.53320   \n",
       "...                         ...         ...         ...         ...   \n",
       "2024-06-05 22:45:00  3869.83000  3868.38000  3873.69000  3869.08000   \n",
       "2024-06-05 23:00:00  3869.07000  3867.85000  3871.73000  3870.36000   \n",
       "2024-06-05 23:15:00  3870.34000  3868.91000  3874.90000  3869.14000   \n",
       "2024-06-05 23:30:00  3869.14000  3864.11000  3871.26000  3868.51000   \n",
       "2024-06-05 23:45:00  3868.50000  3861.05000  3868.70000  3862.19000   \n",
       "\n",
       "                           volume  \n",
       "date                               \n",
       "2025-03-28 00:00:00  8.032256e+06  \n",
       "2025-03-28 00:15:00  1.843241e+08  \n",
       "2025-03-28 00:30:00  5.379967e+06  \n",
       "2025-03-28 00:45:00  6.306079e+08  \n",
       "2025-03-28 01:00:00  5.143552e+08  \n",
       "...                           ...  \n",
       "2024-06-05 22:45:00  1.481128e+06  \n",
       "2024-06-05 23:00:00  1.907044e+06  \n",
       "2024-06-05 23:15:00  2.136276e+06  \n",
       "2024-06-05 23:30:00  1.406864e+06  \n",
       "2024-06-05 23:45:00  1.456791e+06  \n",
       "\n",
       "[28406 rows x 5 columns]"
      ]
     },
     "execution_count": 11,
     "metadata": {},
     "output_type": "execute_result"
    }
   ],
   "source": [
    "symbol_data['ETHUSD']"
   ]
  },
  {
   "cell_type": "code",
   "execution_count": 12,
   "metadata": {},
   "outputs": [
    {
     "data": {
      "text/html": [
       "<div>\n",
       "<style scoped>\n",
       "    .dataframe tbody tr th:only-of-type {\n",
       "        vertical-align: middle;\n",
       "    }\n",
       "\n",
       "    .dataframe tbody tr th {\n",
       "        vertical-align: top;\n",
       "    }\n",
       "\n",
       "    .dataframe thead th {\n",
       "        text-align: right;\n",
       "    }\n",
       "</style>\n",
       "<table border=\"1\" class=\"dataframe\">\n",
       "  <thead>\n",
       "    <tr style=\"text-align: right;\">\n",
       "      <th></th>\n",
       "      <th>open</th>\n",
       "      <th>low</th>\n",
       "      <th>high</th>\n",
       "      <th>close</th>\n",
       "      <th>volume</th>\n",
       "    </tr>\n",
       "    <tr>\n",
       "      <th>date</th>\n",
       "      <th></th>\n",
       "      <th></th>\n",
       "      <th></th>\n",
       "      <th></th>\n",
       "      <th></th>\n",
       "    </tr>\n",
       "  </thead>\n",
       "  <tbody>\n",
       "    <tr>\n",
       "      <th>2025-03-28 00:00:00</th>\n",
       "      <td>1.07916</td>\n",
       "      <td>1.07869</td>\n",
       "      <td>1.07928</td>\n",
       "      <td>1.07873</td>\n",
       "      <td>1048</td>\n",
       "    </tr>\n",
       "    <tr>\n",
       "      <th>2025-03-28 00:15:00</th>\n",
       "      <td>1.07873</td>\n",
       "      <td>1.07857</td>\n",
       "      <td>1.07898</td>\n",
       "      <td>1.07865</td>\n",
       "      <td>1123</td>\n",
       "    </tr>\n",
       "    <tr>\n",
       "      <th>2025-03-28 00:30:00</th>\n",
       "      <td>1.07865</td>\n",
       "      <td>1.07852</td>\n",
       "      <td>1.07910</td>\n",
       "      <td>1.07894</td>\n",
       "      <td>787</td>\n",
       "    </tr>\n",
       "    <tr>\n",
       "      <th>2025-03-28 00:45:00</th>\n",
       "      <td>1.07894</td>\n",
       "      <td>1.07868</td>\n",
       "      <td>1.07895</td>\n",
       "      <td>1.07881</td>\n",
       "      <td>602</td>\n",
       "    </tr>\n",
       "    <tr>\n",
       "      <th>2025-03-28 01:00:00</th>\n",
       "      <td>1.07881</td>\n",
       "      <td>1.07874</td>\n",
       "      <td>1.07903</td>\n",
       "      <td>1.07877</td>\n",
       "      <td>859</td>\n",
       "    </tr>\n",
       "    <tr>\n",
       "      <th>...</th>\n",
       "      <td>...</td>\n",
       "      <td>...</td>\n",
       "      <td>...</td>\n",
       "      <td>...</td>\n",
       "      <td>...</td>\n",
       "    </tr>\n",
       "    <tr>\n",
       "      <th>2024-06-05 22:45:00</th>\n",
       "      <td>1.08943</td>\n",
       "      <td>1.08900</td>\n",
       "      <td>1.08970</td>\n",
       "      <td>1.08916</td>\n",
       "      <td>1110</td>\n",
       "    </tr>\n",
       "    <tr>\n",
       "      <th>2024-06-05 23:00:00</th>\n",
       "      <td>1.08915</td>\n",
       "      <td>1.08890</td>\n",
       "      <td>1.08931</td>\n",
       "      <td>1.08928</td>\n",
       "      <td>818</td>\n",
       "    </tr>\n",
       "    <tr>\n",
       "      <th>2024-06-05 23:15:00</th>\n",
       "      <td>1.08929</td>\n",
       "      <td>1.08900</td>\n",
       "      <td>1.08940</td>\n",
       "      <td>1.08933</td>\n",
       "      <td>715</td>\n",
       "    </tr>\n",
       "    <tr>\n",
       "      <th>2024-06-05 23:30:00</th>\n",
       "      <td>1.08932</td>\n",
       "      <td>1.08890</td>\n",
       "      <td>1.08933</td>\n",
       "      <td>1.08916</td>\n",
       "      <td>746</td>\n",
       "    </tr>\n",
       "    <tr>\n",
       "      <th>2024-06-05 23:45:00</th>\n",
       "      <td>1.08916</td>\n",
       "      <td>1.08880</td>\n",
       "      <td>1.08920</td>\n",
       "      <td>1.08904</td>\n",
       "      <td>627</td>\n",
       "    </tr>\n",
       "  </tbody>\n",
       "</table>\n",
       "<p>19725 rows × 5 columns</p>\n",
       "</div>"
      ],
      "text/plain": [
       "                        open      low     high    close  volume\n",
       "date                                                           \n",
       "2025-03-28 00:00:00  1.07916  1.07869  1.07928  1.07873    1048\n",
       "2025-03-28 00:15:00  1.07873  1.07857  1.07898  1.07865    1123\n",
       "2025-03-28 00:30:00  1.07865  1.07852  1.07910  1.07894     787\n",
       "2025-03-28 00:45:00  1.07894  1.07868  1.07895  1.07881     602\n",
       "2025-03-28 01:00:00  1.07881  1.07874  1.07903  1.07877     859\n",
       "...                      ...      ...      ...      ...     ...\n",
       "2024-06-05 22:45:00  1.08943  1.08900  1.08970  1.08916    1110\n",
       "2024-06-05 23:00:00  1.08915  1.08890  1.08931  1.08928     818\n",
       "2024-06-05 23:15:00  1.08929  1.08900  1.08940  1.08933     715\n",
       "2024-06-05 23:30:00  1.08932  1.08890  1.08933  1.08916     746\n",
       "2024-06-05 23:45:00  1.08916  1.08880  1.08920  1.08904     627\n",
       "\n",
       "[19725 rows x 5 columns]"
      ]
     },
     "execution_count": 12,
     "metadata": {},
     "output_type": "execute_result"
    }
   ],
   "source": [
    "symbol_data['EURUSD']"
   ]
  },
  {
   "cell_type": "code",
   "execution_count": 13,
   "metadata": {},
   "outputs": [
    {
     "data": {
      "text/html": [
       "<div>\n",
       "<style scoped>\n",
       "    .dataframe tbody tr th:only-of-type {\n",
       "        vertical-align: middle;\n",
       "    }\n",
       "\n",
       "    .dataframe tbody tr th {\n",
       "        vertical-align: top;\n",
       "    }\n",
       "\n",
       "    .dataframe thead th {\n",
       "        text-align: right;\n",
       "    }\n",
       "</style>\n",
       "<table border=\"1\" class=\"dataframe\">\n",
       "  <thead>\n",
       "    <tr style=\"text-align: right;\">\n",
       "      <th></th>\n",
       "      <th>open</th>\n",
       "      <th>low</th>\n",
       "      <th>high</th>\n",
       "      <th>close</th>\n",
       "      <th>volume</th>\n",
       "    </tr>\n",
       "    <tr>\n",
       "      <th>date</th>\n",
       "      <th></th>\n",
       "      <th></th>\n",
       "      <th></th>\n",
       "      <th></th>\n",
       "      <th></th>\n",
       "    </tr>\n",
       "  </thead>\n",
       "  <tbody>\n",
       "    <tr>\n",
       "      <th>2024-12-08 17:15:00</th>\n",
       "      <td>150.006</td>\n",
       "      <td>150.005</td>\n",
       "      <td>150.014</td>\n",
       "      <td>150.014</td>\n",
       "      <td>28</td>\n",
       "    </tr>\n",
       "    <tr>\n",
       "      <th>2024-12-08 17:30:00</th>\n",
       "      <td>150.014</td>\n",
       "      <td>150.000</td>\n",
       "      <td>150.025</td>\n",
       "      <td>150.024</td>\n",
       "      <td>212</td>\n",
       "    </tr>\n",
       "    <tr>\n",
       "      <th>2024-12-08 17:45:00</th>\n",
       "      <td>150.024</td>\n",
       "      <td>149.890</td>\n",
       "      <td>150.028</td>\n",
       "      <td>149.960</td>\n",
       "      <td>1410</td>\n",
       "    </tr>\n",
       "    <tr>\n",
       "      <th>2024-12-08 18:00:00</th>\n",
       "      <td>149.960</td>\n",
       "      <td>149.846</td>\n",
       "      <td>150.010</td>\n",
       "      <td>149.888</td>\n",
       "      <td>1284</td>\n",
       "    </tr>\n",
       "    <tr>\n",
       "      <th>2024-12-08 18:15:00</th>\n",
       "      <td>149.888</td>\n",
       "      <td>149.877</td>\n",
       "      <td>149.980</td>\n",
       "      <td>149.967</td>\n",
       "      <td>1843</td>\n",
       "    </tr>\n",
       "    <tr>\n",
       "      <th>...</th>\n",
       "      <td>...</td>\n",
       "      <td>...</td>\n",
       "      <td>...</td>\n",
       "      <td>...</td>\n",
       "      <td>...</td>\n",
       "    </tr>\n",
       "    <tr>\n",
       "      <th>2024-06-05 22:45:00</th>\n",
       "      <td>155.534</td>\n",
       "      <td>155.463</td>\n",
       "      <td>155.657</td>\n",
       "      <td>155.648</td>\n",
       "      <td>1580</td>\n",
       "    </tr>\n",
       "    <tr>\n",
       "      <th>2024-06-05 23:00:00</th>\n",
       "      <td>155.647</td>\n",
       "      <td>155.620</td>\n",
       "      <td>155.686</td>\n",
       "      <td>155.652</td>\n",
       "      <td>1143</td>\n",
       "    </tr>\n",
       "    <tr>\n",
       "      <th>2024-06-05 23:15:00</th>\n",
       "      <td>155.652</td>\n",
       "      <td>155.526</td>\n",
       "      <td>155.672</td>\n",
       "      <td>155.539</td>\n",
       "      <td>1236</td>\n",
       "    </tr>\n",
       "    <tr>\n",
       "      <th>2024-06-05 23:30:00</th>\n",
       "      <td>155.538</td>\n",
       "      <td>155.529</td>\n",
       "      <td>155.665</td>\n",
       "      <td>155.564</td>\n",
       "      <td>1264</td>\n",
       "    </tr>\n",
       "    <tr>\n",
       "      <th>2024-06-05 23:45:00</th>\n",
       "      <td>155.568</td>\n",
       "      <td>155.561</td>\n",
       "      <td>155.615</td>\n",
       "      <td>155.564</td>\n",
       "      <td>949</td>\n",
       "    </tr>\n",
       "  </tbody>\n",
       "</table>\n",
       "<p>13268 rows × 5 columns</p>\n",
       "</div>"
      ],
      "text/plain": [
       "                        open      low     high    close  volume\n",
       "date                                                           \n",
       "2024-12-08 17:15:00  150.006  150.005  150.014  150.014      28\n",
       "2024-12-08 17:30:00  150.014  150.000  150.025  150.024     212\n",
       "2024-12-08 17:45:00  150.024  149.890  150.028  149.960    1410\n",
       "2024-12-08 18:00:00  149.960  149.846  150.010  149.888    1284\n",
       "2024-12-08 18:15:00  149.888  149.877  149.980  149.967    1843\n",
       "...                      ...      ...      ...      ...     ...\n",
       "2024-06-05 22:45:00  155.534  155.463  155.657  155.648    1580\n",
       "2024-06-05 23:00:00  155.647  155.620  155.686  155.652    1143\n",
       "2024-06-05 23:15:00  155.652  155.526  155.672  155.539    1236\n",
       "2024-06-05 23:30:00  155.538  155.529  155.665  155.564    1264\n",
       "2024-06-05 23:45:00  155.568  155.561  155.615  155.564     949\n",
       "\n",
       "[13268 rows x 5 columns]"
      ]
     },
     "execution_count": 13,
     "metadata": {},
     "output_type": "execute_result"
    }
   ],
   "source": [
    "symbol_data['USDJPY']"
   ]
  },
  {
   "cell_type": "code",
   "execution_count": 15,
   "metadata": {},
   "outputs": [
    {
     "name": "stderr",
     "output_type": "stream",
     "text": [
      "Fetching USDJPY: 100%|██████████| 61/61 [02:05<00:00,  2.05s/chunk]\n"
     ]
    }
   ],
   "source": [
    "api_key = 'fGS4bqJzYvYGUO3VlLEdVOVnThL82DXt'\n",
    "def fetch_data(symbol, start_date, end_date, chunk_size_days, timeframe, api_key, delay=1):\n",
    "    current_start = start_date\n",
    "    total_chunks = ((end_date - start_date).days // chunk_size_days) + 1\n",
    "    all_data = []\n",
    "\n",
    "    with tqdm(total=total_chunks, desc=f\"Fetching {symbol}\", unit=\"chunk\") as pbar:\n",
    "        while current_start <= end_date:\n",
    "            current_end = min(current_start + timedelta(days=chunk_size_days - 1), end_date)\n",
    "            url = (f'https://financialmodelingprep.com/api/v3/historical-chart/{timeframe}/{symbol}'\n",
    "                   f'?from={current_start.strftime(\"%Y-%m-%d\")}&to={current_end.strftime(\"%Y-%m-%d\")}&apikey={api_key}')\n",
    "            \n",
    "            try:\n",
    "                response = requests.get(url)\n",
    "                response.raise_for_status()\n",
    "                data = response.json()\n",
    "                if data:\n",
    "                    chunk_df = pd.DataFrame(data)\n",
    "                    chunk_df = chunk_df.set_index('date')\n",
    "                    chunk_df.index = pd.to_datetime(chunk_df.index)\n",
    "                    all_data.append(chunk_df)\n",
    "                else:\n",
    "                    print(f\"No data for range {current_start.date()} to {current_end.date()}.\")\n",
    "            except requests.exceptions.RequestException as e:\n",
    "                print(f\"Error fetching data for range {current_start.date()} to {current_end.date()}: {e}\")\n",
    "            \n",
    "            current_start = current_end + timedelta(days=1)\n",
    "            time.sleep(delay)\n",
    "            pbar.update(1)\n",
    "\n",
    "    if all_data:\n",
    "        final_df = pd.concat(all_data).iloc[::-1]\n",
    "        return final_df\n",
    "    else:\n",
    "        print(f\"No data retrieved for {symbol}.\")\n",
    "        return pd.DataFrame()\n",
    "\n",
    "juyp = fetch_data('USDJPY', start_date, end_date, chunk_size_days, timeframe, api_key, delay)"
   ]
  },
  {
   "cell_type": "code",
   "execution_count": 18,
   "metadata": {},
   "outputs": [],
   "source": [
    "juyp[::-1].to_csv('USDJPY.csv', index=True)"
   ]
  },
  {
   "cell_type": "code",
   "execution_count": 24,
   "metadata": {},
   "outputs": [],
   "source": [
    "symbol_data['BTCUSD'][::-1].reset_index().to_csv('BTCUSD.csv', index=True)\n",
    "symbol_data['ETHUSD'][::-1].reset_index().to_csv('ETHUSD.csv', index=True)\n",
    "symbol_data['EURUSD'][::-1].reset_index().to_csv('EURUSD.csv', index=True)"
   ]
  },
  {
   "cell_type": "code",
   "execution_count": 23,
   "metadata": {},
   "outputs": [
    {
     "data": {
      "text/html": [
       "<div>\n",
       "<style scoped>\n",
       "    .dataframe tbody tr th:only-of-type {\n",
       "        vertical-align: middle;\n",
       "    }\n",
       "\n",
       "    .dataframe tbody tr th {\n",
       "        vertical-align: top;\n",
       "    }\n",
       "\n",
       "    .dataframe thead th {\n",
       "        text-align: right;\n",
       "    }\n",
       "</style>\n",
       "<table border=\"1\" class=\"dataframe\">\n",
       "  <thead>\n",
       "    <tr style=\"text-align: right;\">\n",
       "      <th></th>\n",
       "      <th>date</th>\n",
       "      <th>open</th>\n",
       "      <th>low</th>\n",
       "      <th>high</th>\n",
       "      <th>close</th>\n",
       "      <th>volume</th>\n",
       "    </tr>\n",
       "  </thead>\n",
       "  <tbody>\n",
       "    <tr>\n",
       "      <th>0</th>\n",
       "      <td>2024-06-05 23:45:00</td>\n",
       "      <td>71123.28000</td>\n",
       "      <td>71019.07000</td>\n",
       "      <td>71145.00000</td>\n",
       "      <td>71059.46000</td>\n",
       "      <td>3.419821e+06</td>\n",
       "    </tr>\n",
       "    <tr>\n",
       "      <th>1</th>\n",
       "      <td>2024-06-05 23:30:00</td>\n",
       "      <td>71195.00000</td>\n",
       "      <td>71050.83000</td>\n",
       "      <td>71211.00000</td>\n",
       "      <td>71122.62000</td>\n",
       "      <td>2.936548e+06</td>\n",
       "    </tr>\n",
       "    <tr>\n",
       "      <th>2</th>\n",
       "      <td>2024-06-05 23:15:00</td>\n",
       "      <td>71160.93000</td>\n",
       "      <td>71154.00000</td>\n",
       "      <td>71211.00000</td>\n",
       "      <td>71166.72000</td>\n",
       "      <td>2.646562e+06</td>\n",
       "    </tr>\n",
       "    <tr>\n",
       "      <th>3</th>\n",
       "      <td>2024-06-05 23:00:00</td>\n",
       "      <td>71168.00000</td>\n",
       "      <td>71137.58000</td>\n",
       "      <td>71212.11000</td>\n",
       "      <td>71190.00000</td>\n",
       "      <td>2.386890e+06</td>\n",
       "    </tr>\n",
       "    <tr>\n",
       "      <th>4</th>\n",
       "      <td>2024-06-05 22:45:00</td>\n",
       "      <td>71168.28000</td>\n",
       "      <td>71126.45000</td>\n",
       "      <td>71219.00000</td>\n",
       "      <td>71192.80000</td>\n",
       "      <td>3.082178e+06</td>\n",
       "    </tr>\n",
       "    <tr>\n",
       "      <th>...</th>\n",
       "      <td>...</td>\n",
       "      <td>...</td>\n",
       "      <td>...</td>\n",
       "      <td>...</td>\n",
       "      <td>...</td>\n",
       "      <td>...</td>\n",
       "    </tr>\n",
       "    <tr>\n",
       "      <th>28310</th>\n",
       "      <td>2025-03-28 01:00:00</td>\n",
       "      <td>86183.07031</td>\n",
       "      <td>86086.60938</td>\n",
       "      <td>86194.85156</td>\n",
       "      <td>86086.60938</td>\n",
       "      <td>6.767944e+08</td>\n",
       "    </tr>\n",
       "    <tr>\n",
       "      <th>28311</th>\n",
       "      <td>2025-03-28 00:45:00</td>\n",
       "      <td>86264.03906</td>\n",
       "      <td>85935.39000</td>\n",
       "      <td>86341.74000</td>\n",
       "      <td>86277.09000</td>\n",
       "      <td>4.546615e+08</td>\n",
       "    </tr>\n",
       "    <tr>\n",
       "      <th>28312</th>\n",
       "      <td>2025-03-28 00:30:00</td>\n",
       "      <td>86679.61000</td>\n",
       "      <td>86085.00000</td>\n",
       "      <td>86679.61000</td>\n",
       "      <td>86237.21000</td>\n",
       "      <td>5.162528e+08</td>\n",
       "    </tr>\n",
       "    <tr>\n",
       "      <th>28313</th>\n",
       "      <td>2025-03-28 00:15:00</td>\n",
       "      <td>86753.21875</td>\n",
       "      <td>86654.51000</td>\n",
       "      <td>86753.21875</td>\n",
       "      <td>86747.01563</td>\n",
       "      <td>2.432504e+08</td>\n",
       "    </tr>\n",
       "    <tr>\n",
       "      <th>28314</th>\n",
       "      <td>2025-03-28 00:00:00</td>\n",
       "      <td>86779.11000</td>\n",
       "      <td>86755.92188</td>\n",
       "      <td>86825.43000</td>\n",
       "      <td>86757.50781</td>\n",
       "      <td>2.261936e+06</td>\n",
       "    </tr>\n",
       "  </tbody>\n",
       "</table>\n",
       "<p>28315 rows × 6 columns</p>\n",
       "</div>"
      ],
      "text/plain": [
       "                     date         open          low         high        close  \\\n",
       "0     2024-06-05 23:45:00  71123.28000  71019.07000  71145.00000  71059.46000   \n",
       "1     2024-06-05 23:30:00  71195.00000  71050.83000  71211.00000  71122.62000   \n",
       "2     2024-06-05 23:15:00  71160.93000  71154.00000  71211.00000  71166.72000   \n",
       "3     2024-06-05 23:00:00  71168.00000  71137.58000  71212.11000  71190.00000   \n",
       "4     2024-06-05 22:45:00  71168.28000  71126.45000  71219.00000  71192.80000   \n",
       "...                   ...          ...          ...          ...          ...   \n",
       "28310 2025-03-28 01:00:00  86183.07031  86086.60938  86194.85156  86086.60938   \n",
       "28311 2025-03-28 00:45:00  86264.03906  85935.39000  86341.74000  86277.09000   \n",
       "28312 2025-03-28 00:30:00  86679.61000  86085.00000  86679.61000  86237.21000   \n",
       "28313 2025-03-28 00:15:00  86753.21875  86654.51000  86753.21875  86747.01563   \n",
       "28314 2025-03-28 00:00:00  86779.11000  86755.92188  86825.43000  86757.50781   \n",
       "\n",
       "             volume  \n",
       "0      3.419821e+06  \n",
       "1      2.936548e+06  \n",
       "2      2.646562e+06  \n",
       "3      2.386890e+06  \n",
       "4      3.082178e+06  \n",
       "...             ...  \n",
       "28310  6.767944e+08  \n",
       "28311  4.546615e+08  \n",
       "28312  5.162528e+08  \n",
       "28313  2.432504e+08  \n",
       "28314  2.261936e+06  \n",
       "\n",
       "[28315 rows x 6 columns]"
      ]
     },
     "execution_count": 23,
     "metadata": {},
     "output_type": "execute_result"
    }
   ],
   "source": [
    "symbol_data['BTCUSD'][::-1].reset_index()"
   ]
  },
  {
   "cell_type": "code",
   "execution_count": null,
   "metadata": {},
   "outputs": [],
   "source": []
  }
 ],
 "metadata": {
  "kernelspec": {
   "display_name": "base",
   "language": "python",
   "name": "python3"
  },
  "language_info": {
   "codemirror_mode": {
    "name": "ipython",
    "version": 3
   },
   "file_extension": ".py",
   "mimetype": "text/x-python",
   "name": "python",
   "nbconvert_exporter": "python",
   "pygments_lexer": "ipython3",
   "version": "3.11.4"
  }
 },
 "nbformat": 4,
 "nbformat_minor": 2
}
